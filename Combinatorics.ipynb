{
 "cells": [
  {
   "cell_type": "markdown",
   "metadata": {},
   "source": [
    "# COS10003: Combinatorial analysis"
   ]
  },
  {
   "cell_type": "markdown",
   "metadata": {},
   "source": [
    "For this tutorial we looked at problems involving combinatorial analysis. This involves counting how many combinations (that is, groups) of objects that can be formed from a larger group of objects. We could also take the ordering into account, in which case we use the term permutation.\n",
    "\n",
    "In Python, there are some functions that can generate permutations and combinations under certain conditions. First we need some libraries."
   ]
  },
  {
   "cell_type": "code",
   "execution_count": 6,
   "metadata": {},
   "outputs": [],
   "source": [
    "import itertools\n",
    "import math"
   ]
  },
  {
   "cell_type": "markdown",
   "metadata": {},
   "source": [
    "From here we make use of factorials: recall factorial(n) = n * (n-1) * (n-2) * ... * 2 * 1. Python has a function for this:"
   ]
  },
  {
   "cell_type": "code",
   "execution_count": 5,
   "metadata": {},
   "outputs": [
    {
     "data": {
      "text/plain": [
       "24"
      ]
     },
     "execution_count": 5,
     "metadata": {},
     "output_type": "execute_result"
    }
   ],
   "source": [
    "math.factorial(4)"
   ]
  },
  {
   "cell_type": "markdown",
   "metadata": {},
   "source": [
    "And just to confirm, that by definition:"
   ]
  },
  {
   "cell_type": "code",
   "execution_count": 7,
   "metadata": {},
   "outputs": [
    {
     "data": {
      "text/plain": [
       "1"
      ]
     },
     "execution_count": 7,
     "metadata": {},
     "output_type": "execute_result"
    }
   ],
   "source": [
    "math.factorial(0)"
   ]
  },
  {
   "cell_type": "markdown",
   "metadata": {},
   "source": [
    "## Question 1"
   ]
  },
  {
   "cell_type": "markdown",
   "metadata": {},
   "source": [
    "In question 1 we were given two points and a number of ways to get between them. How many ways are there to get between A and C via B if there are four routes between A and B, and three between B and C?\n",
    "\n",
    "Let's take the long way around (ha!) and enumerate."
   ]
  },
  {
   "cell_type": "code",
   "execution_count": 11,
   "metadata": {},
   "outputs": [
    {
     "data": {
      "text/plain": [
       "[('A1B', 'B1C'),\n",
       " ('A1B', 'B2C'),\n",
       " ('A1B', 'B3C'),\n",
       " ('A2B', 'B1C'),\n",
       " ('A2B', 'B2C'),\n",
       " ('A2B', 'B3C'),\n",
       " ('A3B', 'B1C'),\n",
       " ('A3B', 'B2C'),\n",
       " ('A3B', 'B3C'),\n",
       " ('A4B', 'B1C'),\n",
       " ('A4B', 'B2C'),\n",
       " ('A4B', 'B3C')]"
      ]
     },
     "execution_count": 11,
     "metadata": {},
     "output_type": "execute_result"
    }
   ],
   "source": [
    "ab = [\"A1B\", \"A2B\", \"A3B\", \"A4B\"]\n",
    "bc = [\"B1C\", \"B2C\", \"B3C\"]\n",
    "list(itertools.product(ab, bc))"
   ]
  },
  {
   "cell_type": "markdown",
   "metadata": {},
   "source": [
    "That's all the different paths; we can count them to find our answer."
   ]
  },
  {
   "cell_type": "code",
   "execution_count": 14,
   "metadata": {},
   "outputs": [
    {
     "data": {
      "text/plain": [
       "12"
      ]
     },
     "execution_count": 14,
     "metadata": {},
     "output_type": "execute_result"
    }
   ],
   "source": [
    "len(list(itertools.product(ab, bc)))"
   ]
  },
  {
   "cell_type": "raw",
   "metadata": {},
   "source": [
    "For b) we need to consider the return route. One approach is to multiply 12 routes out by 12 routes back to get 144. Another is to count between points (so 4 x 3 x 3 x 4)."
   ]
  },
  {
   "cell_type": "code",
   "execution_count": 12,
   "metadata": {},
   "outputs": [
    {
     "data": {
      "text/plain": [
       "144"
      ]
     },
     "execution_count": 12,
     "metadata": {},
     "output_type": "execute_result"
    }
   ],
   "source": [
    "len(list(itertools.product(ab, bc, bc, ab)))"
   ]
  },
  {
   "cell_type": "markdown",
   "metadata": {},
   "source": [
    "This is a preview of 10 of the complete routes."
   ]
  },
  {
   "cell_type": "code",
   "execution_count": 13,
   "metadata": {},
   "outputs": [
    {
     "data": {
      "text/plain": [
       "[('A1B', 'B1C', 'B1C', 'A1B'),\n",
       " ('A1B', 'B1C', 'B1C', 'A2B'),\n",
       " ('A1B', 'B1C', 'B1C', 'A3B'),\n",
       " ('A1B', 'B1C', 'B1C', 'A4B'),\n",
       " ('A1B', 'B1C', 'B2C', 'A1B'),\n",
       " ('A1B', 'B1C', 'B2C', 'A2B'),\n",
       " ('A1B', 'B1C', 'B2C', 'A3B'),\n",
       " ('A1B', 'B1C', 'B2C', 'A4B'),\n",
       " ('A1B', 'B1C', 'B3C', 'A1B'),\n",
       " ('A1B', 'B1C', 'B3C', 'A2B')]"
      ]
     },
     "execution_count": 13,
     "metadata": {},
     "output_type": "execute_result"
    }
   ],
   "source": [
    "list(itertools.product(ab, bc, bc, ab))[:10]"
   ]
  },
  {
   "cell_type": "markdown",
   "metadata": {},
   "source": [
    "## Question 2"
   ]
  },
  {
   "cell_type": "markdown",
   "metadata": {},
   "source": [
    "Determine the following:\n",
    "(a) C(16, 3)\n",
    "(b) C(12, 4)\n",
    "(c) C(15, 5)\n",
    "\n",
    "For this I have written some helper functions: one to calculate choose and the other to print out the choose calculation nicely."
   ]
  },
  {
   "cell_type": "code",
   "execution_count": 10,
   "metadata": {},
   "outputs": [],
   "source": [
    "def choose(n, k):\n",
    "    ## recall C(n,k) = n! / (k!(n-k)!)\n",
    "    return math.factorial(n) / math.factorial(k) / math.factorial (n-k)"
   ]
  },
  {
   "cell_type": "code",
   "execution_count": 11,
   "metadata": {},
   "outputs": [],
   "source": [
    "# pretty_choose(n,k): prints a representation of the fraction needed to calculate \n",
    "# choose(n,k).\n",
    "def pretty_choose(n, k):\n",
    "    # work out how many numbers to print out: this will be the minimum of k or n-k\n",
    "    # Try calculating a few choose's yourself to confirm this!\n",
    "    switchpoint = min(k, n - k)\n",
    "    \n",
    "    # On the top of the fraction, we start with n and print some number separated by x (for times).\n",
    "    # Note in Python loops do not execute the \"to\" value; this means we stop the loop one iteration early\n",
    "    # and then print the last number without the \"x\" which makes things neat.\n",
    "    # This is stored in a string rather than being printed during the loop.\n",
    "    numerator = \"\"\n",
    "    for i in range(n, n - switchpoint + 1, -1):\n",
    "        numerator += str(i) + \" x \"\n",
    "    numerator += str(n - switchpoint + 1)\n",
    "    \n",
    "    # And  the same for the bottom of the fraction.\n",
    "    denominator = \"\"\n",
    "    for j in range(switchpoint, 1, -1):\n",
    "        denominator += str(j) + \" x \"\n",
    "    denominator += \"1\"\n",
    "    \n",
    "    # work out how long a line to draw for the fraction\n",
    "    line_length = max(len(numerator), len(denominator))\n",
    "    \n",
    "    # print the numerator, the line with the answer and then the denominator\n",
    "    print(numerator)\n",
    "    print(\"-\"*line_length, \" = \", choose(n,k))\n",
    "    print(denominator)"
   ]
  },
  {
   "cell_type": "markdown",
   "metadata": {},
   "source": [
    "From here it is just applying the formula to each question."
   ]
  },
  {
   "cell_type": "code",
   "execution_count": 12,
   "metadata": {},
   "outputs": [
    {
     "name": "stdout",
     "output_type": "stream",
     "text": [
      "16 x 15 x 14\n",
      "------------  =  560.0\n",
      "3 x 2 x 1\n"
     ]
    }
   ],
   "source": [
    "pretty_choose(16,3)"
   ]
  },
  {
   "cell_type": "code",
   "execution_count": 13,
   "metadata": {},
   "outputs": [
    {
     "name": "stdout",
     "output_type": "stream",
     "text": [
      "12 x 11 x 10 x 9\n",
      "----------------  =  495.0\n",
      "4 x 3 x 2 x 1\n"
     ]
    }
   ],
   "source": [
    "pretty_choose(12,4)"
   ]
  },
  {
   "cell_type": "code",
   "execution_count": 14,
   "metadata": {},
   "outputs": [
    {
     "name": "stdout",
     "output_type": "stream",
     "text": [
      "15 x 14 x 13 x 12 x 11\n",
      "----------------------  =  3003.0\n",
      "5 x 4 x 3 x 2 x 1\n"
     ]
    }
   ],
   "source": [
    "pretty_choose(15,5)"
   ]
  },
  {
   "cell_type": "markdown",
   "metadata": {},
   "source": [
    "## Question 3"
   ]
  },
  {
   "cell_type": "markdown",
   "metadata": {},
   "source": [
    "For this question, you are asked to find the distinct words that can be formed from \n",
    "\n",
    "(a) computer \n",
    "(b) logic\n",
    "(c) essentials\n",
    "\n",
    "To think about this, imagine taking one letter at a time to form the word. If using \"computer\", for the first letter, there are 8 choices, for the second letter, 7 choices (as one letter has already been used). For the third letter, there are 6 choices as two letters have already been used. So this leads us to:"
   ]
  },
  {
   "cell_type": "code",
   "execution_count": 6,
   "metadata": {},
   "outputs": [
    {
     "data": {
      "text/plain": [
       "40320"
      ]
     },
     "execution_count": 6,
     "metadata": {},
     "output_type": "execute_result"
    }
   ],
   "source": [
    "math.factorial(8)"
   ]
  },
  {
   "cell_type": "markdown",
   "metadata": {},
   "source": [
    "And same for b):"
   ]
  },
  {
   "cell_type": "code",
   "execution_count": 7,
   "metadata": {},
   "outputs": [
    {
     "data": {
      "text/plain": [
       "120"
      ]
     },
     "execution_count": 7,
     "metadata": {},
     "output_type": "execute_result"
    }
   ],
   "source": [
    "math.factorial(5)"
   ]
  },
  {
   "cell_type": "markdown",
   "metadata": {},
   "source": [
    "As this has a smaller number of permutations, let's have a look at what they are."
   ]
  },
  {
   "cell_type": "code",
   "execution_count": 16,
   "metadata": {},
   "outputs": [
    {
     "data": {
      "text/plain": [
       "[('l', 'o', 'g', 'i', 'c'),\n",
       " ('l', 'o', 'g', 'c', 'i'),\n",
       " ('l', 'o', 'i', 'g', 'c'),\n",
       " ('l', 'o', 'i', 'c', 'g'),\n",
       " ('l', 'o', 'c', 'g', 'i'),\n",
       " ('l', 'o', 'c', 'i', 'g'),\n",
       " ('l', 'g', 'o', 'i', 'c'),\n",
       " ('l', 'g', 'o', 'c', 'i'),\n",
       " ('l', 'g', 'i', 'o', 'c'),\n",
       " ('l', 'g', 'i', 'c', 'o'),\n",
       " ('l', 'g', 'c', 'o', 'i'),\n",
       " ('l', 'g', 'c', 'i', 'o'),\n",
       " ('l', 'i', 'o', 'g', 'c'),\n",
       " ('l', 'i', 'o', 'c', 'g'),\n",
       " ('l', 'i', 'g', 'o', 'c'),\n",
       " ('l', 'i', 'g', 'c', 'o'),\n",
       " ('l', 'i', 'c', 'o', 'g'),\n",
       " ('l', 'i', 'c', 'g', 'o'),\n",
       " ('l', 'c', 'o', 'g', 'i'),\n",
       " ('l', 'c', 'o', 'i', 'g'),\n",
       " ('l', 'c', 'g', 'o', 'i'),\n",
       " ('l', 'c', 'g', 'i', 'o'),\n",
       " ('l', 'c', 'i', 'o', 'g'),\n",
       " ('l', 'c', 'i', 'g', 'o'),\n",
       " ('o', 'l', 'g', 'i', 'c'),\n",
       " ('o', 'l', 'g', 'c', 'i'),\n",
       " ('o', 'l', 'i', 'g', 'c'),\n",
       " ('o', 'l', 'i', 'c', 'g'),\n",
       " ('o', 'l', 'c', 'g', 'i'),\n",
       " ('o', 'l', 'c', 'i', 'g'),\n",
       " ('o', 'g', 'l', 'i', 'c'),\n",
       " ('o', 'g', 'l', 'c', 'i'),\n",
       " ('o', 'g', 'i', 'l', 'c'),\n",
       " ('o', 'g', 'i', 'c', 'l'),\n",
       " ('o', 'g', 'c', 'l', 'i'),\n",
       " ('o', 'g', 'c', 'i', 'l'),\n",
       " ('o', 'i', 'l', 'g', 'c'),\n",
       " ('o', 'i', 'l', 'c', 'g'),\n",
       " ('o', 'i', 'g', 'l', 'c'),\n",
       " ('o', 'i', 'g', 'c', 'l'),\n",
       " ('o', 'i', 'c', 'l', 'g'),\n",
       " ('o', 'i', 'c', 'g', 'l'),\n",
       " ('o', 'c', 'l', 'g', 'i'),\n",
       " ('o', 'c', 'l', 'i', 'g'),\n",
       " ('o', 'c', 'g', 'l', 'i'),\n",
       " ('o', 'c', 'g', 'i', 'l'),\n",
       " ('o', 'c', 'i', 'l', 'g'),\n",
       " ('o', 'c', 'i', 'g', 'l'),\n",
       " ('g', 'l', 'o', 'i', 'c'),\n",
       " ('g', 'l', 'o', 'c', 'i'),\n",
       " ('g', 'l', 'i', 'o', 'c'),\n",
       " ('g', 'l', 'i', 'c', 'o'),\n",
       " ('g', 'l', 'c', 'o', 'i'),\n",
       " ('g', 'l', 'c', 'i', 'o'),\n",
       " ('g', 'o', 'l', 'i', 'c'),\n",
       " ('g', 'o', 'l', 'c', 'i'),\n",
       " ('g', 'o', 'i', 'l', 'c'),\n",
       " ('g', 'o', 'i', 'c', 'l'),\n",
       " ('g', 'o', 'c', 'l', 'i'),\n",
       " ('g', 'o', 'c', 'i', 'l'),\n",
       " ('g', 'i', 'l', 'o', 'c'),\n",
       " ('g', 'i', 'l', 'c', 'o'),\n",
       " ('g', 'i', 'o', 'l', 'c'),\n",
       " ('g', 'i', 'o', 'c', 'l'),\n",
       " ('g', 'i', 'c', 'l', 'o'),\n",
       " ('g', 'i', 'c', 'o', 'l'),\n",
       " ('g', 'c', 'l', 'o', 'i'),\n",
       " ('g', 'c', 'l', 'i', 'o'),\n",
       " ('g', 'c', 'o', 'l', 'i'),\n",
       " ('g', 'c', 'o', 'i', 'l'),\n",
       " ('g', 'c', 'i', 'l', 'o'),\n",
       " ('g', 'c', 'i', 'o', 'l'),\n",
       " ('i', 'l', 'o', 'g', 'c'),\n",
       " ('i', 'l', 'o', 'c', 'g'),\n",
       " ('i', 'l', 'g', 'o', 'c'),\n",
       " ('i', 'l', 'g', 'c', 'o'),\n",
       " ('i', 'l', 'c', 'o', 'g'),\n",
       " ('i', 'l', 'c', 'g', 'o'),\n",
       " ('i', 'o', 'l', 'g', 'c'),\n",
       " ('i', 'o', 'l', 'c', 'g'),\n",
       " ('i', 'o', 'g', 'l', 'c'),\n",
       " ('i', 'o', 'g', 'c', 'l'),\n",
       " ('i', 'o', 'c', 'l', 'g'),\n",
       " ('i', 'o', 'c', 'g', 'l'),\n",
       " ('i', 'g', 'l', 'o', 'c'),\n",
       " ('i', 'g', 'l', 'c', 'o'),\n",
       " ('i', 'g', 'o', 'l', 'c'),\n",
       " ('i', 'g', 'o', 'c', 'l'),\n",
       " ('i', 'g', 'c', 'l', 'o'),\n",
       " ('i', 'g', 'c', 'o', 'l'),\n",
       " ('i', 'c', 'l', 'o', 'g'),\n",
       " ('i', 'c', 'l', 'g', 'o'),\n",
       " ('i', 'c', 'o', 'l', 'g'),\n",
       " ('i', 'c', 'o', 'g', 'l'),\n",
       " ('i', 'c', 'g', 'l', 'o'),\n",
       " ('i', 'c', 'g', 'o', 'l'),\n",
       " ('c', 'l', 'o', 'g', 'i'),\n",
       " ('c', 'l', 'o', 'i', 'g'),\n",
       " ('c', 'l', 'g', 'o', 'i'),\n",
       " ('c', 'l', 'g', 'i', 'o'),\n",
       " ('c', 'l', 'i', 'o', 'g'),\n",
       " ('c', 'l', 'i', 'g', 'o'),\n",
       " ('c', 'o', 'l', 'g', 'i'),\n",
       " ('c', 'o', 'l', 'i', 'g'),\n",
       " ('c', 'o', 'g', 'l', 'i'),\n",
       " ('c', 'o', 'g', 'i', 'l'),\n",
       " ('c', 'o', 'i', 'l', 'g'),\n",
       " ('c', 'o', 'i', 'g', 'l'),\n",
       " ('c', 'g', 'l', 'o', 'i'),\n",
       " ('c', 'g', 'l', 'i', 'o'),\n",
       " ('c', 'g', 'o', 'l', 'i'),\n",
       " ('c', 'g', 'o', 'i', 'l'),\n",
       " ('c', 'g', 'i', 'l', 'o'),\n",
       " ('c', 'g', 'i', 'o', 'l'),\n",
       " ('c', 'i', 'l', 'o', 'g'),\n",
       " ('c', 'i', 'l', 'g', 'o'),\n",
       " ('c', 'i', 'o', 'l', 'g'),\n",
       " ('c', 'i', 'o', 'g', 'l'),\n",
       " ('c', 'i', 'g', 'l', 'o'),\n",
       " ('c', 'i', 'g', 'o', 'l')]"
      ]
     },
     "execution_count": 16,
     "metadata": {},
     "output_type": "execute_result"
    }
   ],
   "source": [
    "list(itertools.permutations(\"logic\",5))"
   ]
  },
  {
   "cell_type": "markdown",
   "metadata": {},
   "source": [
    "Finally, \"essentials\" is a bit trickier as there are repeated letters. Let's start with the basic calculation though to see how this works. Note that *len* of a string is the length, so this saves us counting characters:"
   ]
  },
  {
   "cell_type": "code",
   "execution_count": 62,
   "metadata": {},
   "outputs": [
    {
     "data": {
      "text/plain": [
       "3628800"
      ]
     },
     "execution_count": 62,
     "metadata": {},
     "output_type": "execute_result"
    }
   ],
   "source": [
    "len(list(itertools.permutations(\"essentials\",len(\"essentials\"))))"
   ]
  },
  {
   "cell_type": "markdown",
   "metadata": {},
   "source": [
    "So there are over 3 million permutations of those characters. Let's inspect some of them, say the last 10 generated."
   ]
  },
  {
   "cell_type": "code",
   "execution_count": 21,
   "metadata": {},
   "outputs": [
    {
     "data": {
      "text/plain": [
       "[('s', 'l', 'a', 'i', 't', 'n', 's', 's', 'e', 'e'),\n",
       " ('s', 'l', 'a', 'i', 't', 'n', 's', 's', 'e', 'e'),\n",
       " ('s', 'l', 'a', 'i', 't', 'n', 's', 'e', 'e', 's'),\n",
       " ('s', 'l', 'a', 'i', 't', 'n', 's', 'e', 's', 'e'),\n",
       " ('s', 'l', 'a', 'i', 't', 'n', 'e', 'e', 's', 's'),\n",
       " ('s', 'l', 'a', 'i', 't', 'n', 'e', 'e', 's', 's'),\n",
       " ('s', 'l', 'a', 'i', 't', 'n', 'e', 's', 'e', 's'),\n",
       " ('s', 'l', 'a', 'i', 't', 'n', 'e', 's', 's', 'e'),\n",
       " ('s', 'l', 'a', 'i', 't', 'n', 'e', 's', 'e', 's'),\n",
       " ('s', 'l', 'a', 'i', 't', 'n', 'e', 's', 's', 'e')]"
      ]
     },
     "execution_count": 21,
     "metadata": {},
     "output_type": "execute_result"
    }
   ],
   "source": [
    "list(itertools.permutations(\"essentials\",len(\"essentials\")))[-10:]"
   ]
  },
  {
   "cell_type": "markdown",
   "metadata": {},
   "source": [
    "Taking a look at the permutations, it can bee seen that some are the same. Take the last row and the third last row of the previous list -- they are the same."
   ]
  },
  {
   "cell_type": "code",
   "execution_count": 3,
   "metadata": {},
   "outputs": [
    {
     "data": {
      "text/plain": [
       "True"
      ]
     },
     "execution_count": 3,
     "metadata": {},
     "output_type": "execute_result"
    }
   ],
   "source": [
    "list(itertools.permutations(\"essentials\",len(\"essentials\")))[-3]==list(itertools.permutations(\"essentials\",len(\"essentials\")))[-1]"
   ]
  },
  {
   "cell_type": "markdown",
   "metadata": {},
   "source": [
    "One trick for working out how many duplicates there are is to convert the permutation object to a set rather than a list and then find the size: recall that sets are not allowed to have duplicate elements, so any duplicates will be discarded."
   ]
  },
  {
   "cell_type": "code",
   "execution_count": 63,
   "metadata": {},
   "outputs": [
    {
     "data": {
      "text/plain": [
       "302400"
      ]
     },
     "execution_count": 63,
     "metadata": {},
     "output_type": "execute_result"
    }
   ],
   "source": [
    "len(set(itertools.permutations(\"essentials\",len(\"essentials\"))))"
   ]
  },
  {
   "cell_type": "markdown",
   "metadata": {},
   "source": [
    "Aha! What is the ratio of duplicates?"
   ]
  },
  {
   "cell_type": "code",
   "execution_count": 4,
   "metadata": {},
   "outputs": [
    {
     "data": {
      "text/plain": [
       "12.0"
      ]
     },
     "execution_count": 4,
     "metadata": {},
     "output_type": "execute_result"
    }
   ],
   "source": [
    "len(list(itertools.permutations(\"essentials\",len(\"essentials\")))) / len(set(itertools.permutations(\"essentials\",len(\"essentials\"))))"
   ]
  },
  {
   "cell_type": "markdown",
   "metadata": {},
   "source": [
    "12 looks like a number that can be formed from some factorial-like numbers. Note that \"essentials\" has three s's, so that means for each placement of s's in the same places (with different placements of the other letters) there would be 6 (3!) identical words. And the same for the two e's: we need to take into account that when the two e's are in the same places, there are 2! identical words formed. So dividing through:"
   ]
  },
  {
   "cell_type": "code",
   "execution_count": 23,
   "metadata": {},
   "outputs": [
    {
     "data": {
      "text/plain": [
       "302400.0"
      ]
     },
     "execution_count": 23,
     "metadata": {},
     "output_type": "execute_result"
    }
   ],
   "source": [
    "math.factorial(10) / math.factorial(2) / math.factorial(3)"
   ]
  },
  {
   "cell_type": "markdown",
   "metadata": {},
   "source": [
    "It might help to explore this with shorter words."
   ]
  },
  {
   "cell_type": "markdown",
   "metadata": {},
   "source": [
    "## Question 4"
   ]
  },
  {
   "cell_type": "markdown",
   "metadata": {},
   "source": [
    "How many ways can 12 people be split into three teams of four people?"
   ]
  },
  {
   "cell_type": "markdown",
   "metadata": {},
   "source": [
    "Let's think about this with smaller numbers. We have 6 people to put into 2 teams. If we go 6!/3!/3!, we get:"
   ]
  },
  {
   "cell_type": "code",
   "execution_count": 10,
   "metadata": {},
   "outputs": [
    {
     "data": {
      "text/plain": [
       "20.0"
      ]
     },
     "execution_count": 10,
     "metadata": {},
     "output_type": "execute_result"
    }
   ],
   "source": [
    "math.factorial(6) / math.factorial(3) / math.factorial(3)"
   ]
  },
  {
   "cell_type": "markdown",
   "metadata": {},
   "source": [
    "Let's have a look at some of these combinations though. "
   ]
  },
  {
   "cell_type": "code",
   "execution_count": 25,
   "metadata": {},
   "outputs": [
    {
     "data": {
      "text/plain": [
       "[(('a', 'b', 'c'), ('d', 'f', 'e')),\n",
       " (('a', 'b', 'd'), ('c', 'f', 'e')),\n",
       " (('a', 'b', 'e'), ('c', 'd', 'f')),\n",
       " (('a', 'b', 'f'), ('c', 'd', 'e')),\n",
       " (('a', 'c', 'd'), ('f', 'b', 'e')),\n",
       " (('a', 'c', 'e'), ('d', 'f', 'b')),\n",
       " (('a', 'c', 'f'), ('d', 'b', 'e')),\n",
       " (('a', 'd', 'e'), ('c', 'f', 'b')),\n",
       " (('a', 'd', 'f'), ('c', 'b', 'e')),\n",
       " (('a', 'e', 'f'), ('c', 'd', 'b')),\n",
       " (('b', 'c', 'd'), ('f', 'e', 'a')),\n",
       " (('b', 'c', 'e'), ('d', 'f', 'a')),\n",
       " (('b', 'c', 'f'), ('d', 'e', 'a')),\n",
       " (('b', 'd', 'e'), ('c', 'f', 'a')),\n",
       " (('b', 'd', 'f'), ('c', 'e', 'a')),\n",
       " (('b', 'e', 'f'), ('c', 'd', 'a')),\n",
       " (('c', 'd', 'e'), ('f', 'b', 'a')),\n",
       " (('c', 'd', 'f'), ('b', 'e', 'a')),\n",
       " (('c', 'e', 'f'), ('d', 'b', 'a')),\n",
       " (('d', 'e', 'f'), ('c', 'b', 'a'))]"
      ]
     },
     "execution_count": 25,
     "metadata": {},
     "output_type": "execute_result"
    }
   ],
   "source": [
    "def two_groups(names, groupSize):\n",
    "    all_groups = []\n",
    "    group1 = list(itertools.combinations(names,groupSize))\n",
    "    for g1 in group1:\n",
    "        group2 = list(itertools.combinations(list(set(names).difference(set(g1))),groupSize))\n",
    "        for g2 in group2:\n",
    "            all_groups.append((g1,g2))\n",
    "    return all_groups\n",
    "        \n",
    "two_groups(\"abcdef\",3)\n",
    "    "
   ]
  },
  {
   "cell_type": "markdown",
   "metadata": {},
   "source": [
    "If you look carefully though, some of these group combinations are the same, e.g., attempt 1 and 20 are the same groupings but just in a different order. Given there are 2! different ways the teams can be ordered, we need to divide by that to get to the final number of distinct team arrangements."
   ]
  },
  {
   "cell_type": "markdown",
   "metadata": {},
   "source": [
    "Returning to our original problem, ignoring the groups that are the same, we get:"
   ]
  },
  {
   "cell_type": "code",
   "execution_count": 24,
   "metadata": {},
   "outputs": [
    {
     "data": {
      "text/plain": [
       "34650.0"
      ]
     },
     "execution_count": 24,
     "metadata": {},
     "output_type": "execute_result"
    }
   ],
   "source": [
    "math.factorial(12) / math.factorial(4) / math.factorial(4) / math.factorial(4)"
   ]
  },
  {
   "cell_type": "markdown",
   "metadata": {},
   "source": [
    "Or approaching it another way:"
   ]
  },
  {
   "cell_type": "code",
   "execution_count": 7,
   "metadata": {},
   "outputs": [
    {
     "data": {
      "text/plain": [
       "34650.0"
      ]
     },
     "execution_count": 7,
     "metadata": {},
     "output_type": "execute_result"
    }
   ],
   "source": [
    "choose(12,4) * choose(8,4) * choose(4,4)"
   ]
  },
  {
   "cell_type": "markdown",
   "metadata": {},
   "source": [
    "However both of these solutions need to be divided by 3! to cater for repeated groups."
   ]
  },
  {
   "cell_type": "code",
   "execution_count": 8,
   "metadata": {},
   "outputs": [
    {
     "data": {
      "text/plain": [
       "5775.0"
      ]
     },
     "execution_count": 8,
     "metadata": {},
     "output_type": "execute_result"
    }
   ],
   "source": [
    "choose(12,4) * choose(8,4) * choose(4,4) / math.factorial(3)"
   ]
  },
  {
   "cell_type": "markdown",
   "metadata": {},
   "source": [
    "## Question 5"
   ]
  },
  {
   "cell_type": "markdown",
   "metadata": {},
   "source": [
    "A ‘lucky dip’ bag contains 6 white opals and five black opals. Find the number of ways 4 opals can be drawn according to the following scenarios.\n",
    "\n",
    "(a) They can be either black or white.\n",
    "(b) Two are black and two are white.\n",
    "(c) They are all the same colour."
   ]
  },
  {
   "cell_type": "markdown",
   "metadata": {},
   "source": [
    "For (a) this is simply a selection of four opals from the bag."
   ]
  },
  {
   "cell_type": "code",
   "execution_count": 50,
   "metadata": {},
   "outputs": [
    {
     "data": {
      "text/plain": [
       "330.0"
      ]
     },
     "execution_count": 50,
     "metadata": {},
     "output_type": "execute_result"
    }
   ],
   "source": [
    "choose(11,4)"
   ]
  },
  {
   "cell_type": "markdown",
   "metadata": {},
   "source": [
    "(b) requires some more thought. We are after all the combinations that have two black opals and two white opals. This needs to be decomposed into two parts: the selection of the black opals and the selection of the white opals."
   ]
  },
  {
   "cell_type": "code",
   "execution_count": 15,
   "metadata": {},
   "outputs": [
    {
     "data": {
      "text/plain": [
       "15.0"
      ]
     },
     "execution_count": 15,
     "metadata": {},
     "output_type": "execute_result"
    }
   ],
   "source": [
    "choose(6,2) ## choosing white opals"
   ]
  },
  {
   "cell_type": "code",
   "execution_count": 16,
   "metadata": {},
   "outputs": [
    {
     "data": {
      "text/plain": [
       "10.0"
      ]
     },
     "execution_count": 16,
     "metadata": {},
     "output_type": "execute_result"
    }
   ],
   "source": [
    "choose(5,2) ## choosing black opals"
   ]
  },
  {
   "cell_type": "markdown",
   "metadata": {},
   "source": [
    "This then becomes similar to question 1, where there were two parts of the route that needed to be combined (ANDed, if you like). So for every way two black opals can be selected, there are 15 ways of selecting the white opals. We need to multiply the two values together."
   ]
  },
  {
   "cell_type": "code",
   "execution_count": 51,
   "metadata": {},
   "outputs": [
    {
     "data": {
      "text/plain": [
       "150.0"
      ]
     },
     "execution_count": 51,
     "metadata": {},
     "output_type": "execute_result"
    }
   ],
   "source": [
    "choose(6,2) * choose(5,2)"
   ]
  },
  {
   "cell_type": "markdown",
   "metadata": {},
   "source": [
    "The last part is different again. In this case we have two different descriptions for all same colour: either all white or all black (ORed, if you like). So in this case we use addition."
   ]
  },
  {
   "cell_type": "code",
   "execution_count": 52,
   "metadata": {},
   "outputs": [
    {
     "data": {
      "text/plain": [
       "20.0"
      ]
     },
     "execution_count": 52,
     "metadata": {},
     "output_type": "execute_result"
    }
   ],
   "source": [
    "choose(6,4) + choose(5,4)"
   ]
  },
  {
   "cell_type": "markdown",
   "metadata": {},
   "source": [
    "Rule of thumb: if you are working with partial combinations/permutations (as in b)), then use multiplication. If you are working with complete combinations/permutations with different properties, use addition."
   ]
  },
  {
   "cell_type": "markdown",
   "metadata": {},
   "source": [
    "## Question 6"
   ]
  },
  {
   "cell_type": "markdown",
   "metadata": {},
   "source": [
    "A committee of three is chosen from 20 people containing Batman and Superman who hate each other and refuse to be on any committee together. How many three-person committees are possible not involving both Batman and Superman?"
   ]
  },
  {
   "cell_type": "markdown",
   "metadata": {},
   "source": [
    "Our members (I've just used characters to identify the other 18 group members) and all the combinations of 3:"
   ]
  },
  {
   "cell_type": "code",
   "execution_count": 18,
   "metadata": {},
   "outputs": [
    {
     "data": {
      "text/plain": [
       "1140"
      ]
     },
     "execution_count": 18,
     "metadata": {},
     "output_type": "execute_result"
    }
   ],
   "source": [
    "heroes = [\"Batman\", \"Superman\", \"A\", \"B\", \"C\", \"D\", \"E\", \"F\", \"G\", \"H\", \"I\", \"J\", \"K\", \n",
    "          \"L\", \"M\", \"N\", \"O\", \"P\", \"Q\", \"R\"]\n",
    "combos = list(itertools.combinations(heroes,3))\n",
    "len(combos)"
   ]
  },
  {
   "cell_type": "markdown",
   "metadata": {},
   "source": [
    "Lets's see exactly which combos are not allowed by enumerating them:"
   ]
  },
  {
   "cell_type": "code",
   "execution_count": 21,
   "metadata": {},
   "outputs": [
    {
     "name": "stdout",
     "output_type": "stream",
     "text": [
      "('Batman', 'Superman', 'A')\n",
      "('Batman', 'Superman', 'B')\n",
      "('Batman', 'Superman', 'C')\n",
      "('Batman', 'Superman', 'D')\n",
      "('Batman', 'Superman', 'E')\n",
      "('Batman', 'Superman', 'F')\n",
      "('Batman', 'Superman', 'G')\n",
      "('Batman', 'Superman', 'H')\n",
      "('Batman', 'Superman', 'I')\n",
      "('Batman', 'Superman', 'J')\n",
      "('Batman', 'Superman', 'K')\n",
      "('Batman', 'Superman', 'L')\n",
      "('Batman', 'Superman', 'M')\n",
      "('Batman', 'Superman', 'N')\n",
      "('Batman', 'Superman', 'O')\n",
      "('Batman', 'Superman', 'P')\n",
      "('Batman', 'Superman', 'Q')\n",
      "('Batman', 'Superman', 'R')\n",
      "18\n"
     ]
    }
   ],
   "source": [
    "disallowed = 0\n",
    "for combo in combos:\n",
    "    if (\"Batman\" in set(combo) and \"Superman\" in set(combo)):\n",
    "        print(combo)\n",
    "        disallowed += 1\n",
    "print(disallowed)"
   ]
  },
  {
   "cell_type": "markdown",
   "metadata": {},
   "source": [
    "So this is effectively C(18,1) as we are looking for the last member of the committee for any committes already containing Batman and Superman. Our final expression is then C(20,3) - C(18,1):"
   ]
  },
  {
   "cell_type": "code",
   "execution_count": 22,
   "metadata": {},
   "outputs": [
    {
     "data": {
      "text/plain": [
       "1122.0"
      ]
     },
     "execution_count": 22,
     "metadata": {},
     "output_type": "execute_result"
    }
   ],
   "source": [
    "choose(20,3) - choose(18,1)"
   ]
  },
  {
   "cell_type": "markdown",
   "metadata": {},
   "source": [
    "In light of exams now being at Marvel Stadium, this question might need updating!"
   ]
  },
  {
   "cell_type": "markdown",
   "metadata": {},
   "source": [
    "## Summing up\n",
    "\n",
    "The best approach to this topic is to think carefully about whether the order or position of elements matters, and whether replication or identical elements are involved. Sometimes it helps to shrink the problem (e.g., work with smaller sets of objects) and enumerate solutions to find/check the approach before applying the approach to larger problems. "
   ]
  }
 ],
 "metadata": {
  "kernelspec": {
   "display_name": "Python 3",
   "language": "python",
   "name": "python3"
  },
  "language_info": {
   "codemirror_mode": {
    "name": "ipython",
    "version": 3
   },
   "file_extension": ".py",
   "mimetype": "text/x-python",
   "name": "python",
   "nbconvert_exporter": "python",
   "pygments_lexer": "ipython3",
   "version": "3.6.4"
  }
 },
 "nbformat": 4,
 "nbformat_minor": 2
}
